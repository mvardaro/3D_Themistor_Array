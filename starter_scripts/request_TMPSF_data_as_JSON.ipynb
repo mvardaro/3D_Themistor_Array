{
 "cells": [
  {
   "cell_type": "markdown",
   "metadata": {},
   "source": [
    "# Accessing 3D Thermistor Array via OOI RESTful API\n",
    "Here the basic instructions to get started using the OOI M2M Web Services to request TMPSF (3D Thermistor Array) data\n",
    "\n",
    "## Getting Started\n",
    "* Create a user account on ooinet.oceanobservatories.org\n",
    "* Log in\n",
    "* Navigate to the drop down menu screen in the top-right corner menu\n",
    "* Click on the \"User Profile\" element of the drop down.\n",
    "* Copy and save the following data from the user profile: API Username and API Token. The API Username is similar to “OOIAPI-QTULEV9STCAS55”. The API Token is similar to “YXP2Q2W4SOP”."
   ]
  },
  {
   "cell_type": "code",
   "execution_count": 1,
   "metadata": {
    "collapsed": true
   },
   "outputs": [],
   "source": [
    "USERNAME ='YOUR API KEY'\n",
    "TOKEN= 'YOUR API TOKEN'"
   ]
  },
  {
   "cell_type": "markdown",
   "metadata": {},
   "source": [
    "In this example we will request information and data from the Cabled Axial Seamount ASHES Vent Field (RS03ASHS) - Medium-Power JBox (MJ03B) - Diffuse Vent Fluid 3-D Temperature Array (07-TMPSFA301) sensor.\n",
    "\n",
    "Reference Designator: RS03ASHS-MJ03B-07-TMPSFA301"
   ]
  },
  {
   "cell_type": "code",
   "execution_count": 2,
   "metadata": {
    "collapsed": true
   },
   "outputs": [],
   "source": [
    "import requests\n",
    "import json\n",
    "import datetime"
   ]
  },
  {
   "cell_type": "markdown",
   "metadata": {},
   "source": [
    "Make the M2M request for 1000 data points between 2017-07-04T17:54:58.050Z and 2017-07-04T23:54:58.050Z"
   ]
  },
  {
   "cell_type": "code",
   "execution_count": 3,
   "metadata": {
    "collapsed": true
   },
   "outputs": [],
   "source": [
    "response = requests.get('https://ooinet.oceanobservatories.org/api/m2m/12576/sensor/inv/RS03ASHS/MJ03B/07-TMPSFA301/streamed/tmpsf_sample?beginDT=2017-07-04T17:54:58.050Z&endDT=2017-07-04T23:54:58.050Z&limit=1000', auth=(USERNAME, TOKEN))\n",
    "data = response.json()"
   ]
  },
  {
   "cell_type": "markdown",
   "metadata": {},
   "source": [
    "Prepare function to convert ntp time."
   ]
  },
  {
   "cell_type": "code",
   "execution_count": 4,
   "metadata": {
    "collapsed": false
   },
   "outputs": [],
   "source": [
    "ntp_epoch = datetime.datetime(1900, 1, 1)\n",
    "unix_epoch = datetime.datetime(1970, 1, 1)\n",
    "ntp_delta = (unix_epoch - ntp_epoch).total_seconds()\n",
    "\n",
    "def ntp_seconds_to_datetime(ntp_seconds):\n",
    "    return datetime.datetime.utcfromtimestamp(ntp_seconds - ntp_delta).replace(microsecond=0)"
   ]
  },
  {
   "cell_type": "markdown",
   "metadata": {},
   "source": [
    "Print the time stamp from the first data point received."
   ]
  },
  {
   "cell_type": "code",
   "execution_count": 5,
   "metadata": {
    "collapsed": false
   },
   "outputs": [
    {
     "name": "stdout",
     "output_type": "stream",
     "text": [
      "2017-07-04 17:55:02\n"
     ]
    }
   ],
   "source": [
    "print ntp_seconds_to_datetime(data[0]['time'])"
   ]
  },
  {
   "cell_type": "markdown",
   "metadata": {},
   "source": [
    "Print the corresponding 24 temperature values in degree C."
   ]
  },
  {
   "cell_type": "code",
   "execution_count": 6,
   "metadata": {
    "collapsed": false
   },
   "outputs": [
    {
     "name": "stdout",
     "output_type": "stream",
     "text": [
      "temperature23 2.44449996948\n",
      "temperature22 2.43079996109\n",
      "temperature03 7.15049982071\n",
      "temperature02 58.0060005188\n",
      "temperature01 4.75339984894\n",
      "temperature07 5.55289983749\n",
      "temperature06 110.878501892\n",
      "temperature05 2.9047999382\n",
      "temperature04 2.65739989281\n",
      "temperature09 2.64849996567\n",
      "temperature08 3.28460001945\n",
      "temperature24 3.24650001526\n",
      "temperature14 2.99029994011\n",
      "temperature17 6.65649986267\n",
      "temperature18 2.4525001049\n",
      "temperature19 2.52509999275\n",
      "temperature15 3.16420006752\n",
      "temperature16 4.5173997879\n",
      "temperature10 2.75959992409\n",
      "temperature11 2.61509990692\n",
      "temperature12 4.3357000351\n",
      "temperature13 3.78909993172\n",
      "temperature21 3.28090000153\n",
      "temperature20 2.49819993973\n"
     ]
    }
   ],
   "source": [
    "for key, value in data[0].items():\n",
    "    if len(key) == 13 and key.startswith(\"t\"):\n",
    "        print key, value"
   ]
  }
 ],
 "metadata": {
  "kernelspec": {
   "display_name": "Python 2",
   "language": "python",
   "name": "python2"
  },
  "language_info": {
   "codemirror_mode": {
    "name": "ipython",
    "version": 2
   },
   "file_extension": ".py",
   "mimetype": "text/x-python",
   "name": "python",
   "nbconvert_exporter": "python",
   "pygments_lexer": "ipython2",
   "version": "2.7.13"
  }
 },
 "nbformat": 4,
 "nbformat_minor": 2
}
